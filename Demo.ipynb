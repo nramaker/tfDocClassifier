{
 "cells": [
  {
   "cell_type": "code",
   "execution_count": 1,
   "metadata": {},
   "outputs": [],
   "source": [
    "# Imports\n",
    "import HSToken\n",
    "import HSDocClassifier"
   ]
  },
  {
   "cell_type": "code",
   "execution_count": 2,
   "metadata": {},
   "outputs": [
    {
     "name": "stdout",
     "output_type": "stream",
     "text": [
      "('features', {'small_blocks': 28, 'total_words': 105, 'med_blocks': 11, 'large_blocks': 6, 'conjunctions': 1, 'invoice_ids': 1, 'adjectives': 14, 'verbs': 6, 'product_ids': 5, 'nouns': 59, 'numbers': 19})\n",
      "\n",
      "('text', 'Your Company Name\\nINVOICE\\nStreet Address\\nCity, ST ZIP Code\\nPhone Number , Web Address, etc\\nDATE : November 17, 2006\\nINVOICE #INV1000\\nBill To: C1007\\nABC Company\\n123 Big Forest Valley\\nOttawa, On Z12345\\nCanada\\nShip To:\\nSH Name 1\\nSH Address 1\\nSH City State 1 SHZ12345\\nUSA\\nP.0.\\no20081200s\\nSales Rep. Name Ship Date Ship Via Terms\\nSales11117 2006 UPS 7 Net\\nDue Date\\nO\\nUnit Price\\nProduct ID Description\\nP1003 Motorola E815\\nP1000 Nokia 3220\\nQuantity\\n10\\nLine Total\\n4,200.00\\n420.00\\n12\\n199.99\\n2399.88\\nP1004\\nNon-taxable item\\n200.00\\n100000\\nP1002\\nIt is a service\\n3.2\\n255.52\\n817.66\\nP1006\\nMotorola VS Razr Black\\n10\\n500.00\\n500000\\n13,417.54\\nSUBTOTAL\\nPST 6.50%\\nNotes:\\n807.14\\nGST\\n3.20%\\n397.36\\nH\\nSHIPPING & HANDLING\\nTOTAL\\n14,622.04\\nPAID\\nTOTAL DUE\\n14 ,622.04\\nTHANK YOU FOR YOUR BUSINESS\\n')\n"
     ]
    }
   ],
   "source": [
    "features, text = HSToken.extract_features(\"../RPA/invoice.jpg\")\n",
    "#features, text = HSToken.extract_features(\"./invoices/inv01.png\")\n",
    "#features, text = HSToken.extract_features(\"./emails/email05.png\")\n",
    "\n",
    "print(\"features\",features)\n",
    "print(\"\")\n",
    "print(\"text\",text)"
   ]
  },
  {
   "cell_type": "code",
   "execution_count": 3,
   "metadata": {},
   "outputs": [],
   "source": [
    "labels = ['email','invoice']"
   ]
  },
  {
   "cell_type": "code",
   "execution_count": 4,
   "metadata": {},
   "outputs": [
    {
     "name": "stdout",
     "output_type": "stream",
     "text": [
      "INFO:tensorflow:Restoring parameters from ./models/classifier.ckpt\n",
      "Predicted class 'invoice' with 0.992491900921 confidence\n"
     ]
    }
   ],
   "source": [
    "prediction, confidence = HSDocClassifier.classify(features, labels)\n",
    "print(\"Predicted class '{}' with {} confidence\".format(prediction, confidence))"
   ]
  }
 ],
 "metadata": {
  "kernelspec": {
   "display_name": "Python 2",
   "language": "python",
   "name": "python2"
  },
  "language_info": {
   "codemirror_mode": {
    "name": "ipython",
    "version": 2
   },
   "file_extension": ".py",
   "mimetype": "text/x-python",
   "name": "python",
   "nbconvert_exporter": "python",
   "pygments_lexer": "ipython2",
   "version": "2.7.12"
  }
 },
 "nbformat": 4,
 "nbformat_minor": 2
}
