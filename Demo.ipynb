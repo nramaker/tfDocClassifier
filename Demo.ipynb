{
 "cells": [
  {
   "cell_type": "code",
   "execution_count": 1,
   "metadata": {},
   "outputs": [],
   "source": [
    "# Imports\n",
    "import HSToken as tokenizer\n",
    "import HSGoogleHelper as googleAPI\n",
    "import HSUtilCSV as csvHelper\n",
    "import HSDocClassifier as classifier\n",
    "\n",
    "import unicodedata     \n",
    "import nltk\n"
   ]
  },
  {
   "cell_type": "code",
   "execution_count": 2,
   "metadata": {},
   "outputs": [],
   "source": [
    "def extract_features(image):\n",
    "    \n",
    "    #Call Google API\n",
    "    google_detection= googleAPI.get_text_from_google(image)\n",
    "    text_areas = googleAPI.collect_text_areas(google_detection)\n",
    "    count_low, count_med, count_high = googleAPI.count_text_areas_by_size(text_areas)\n",
    "    \n",
    "    #Tokenize and turn into Features\n",
    "    text = google_detection.text\n",
    "    text = unicodedata.normalize('NFKD', text).encode('ascii', 'ignore')\n",
    "    \n",
    "    tokens, numbers = tokenizer.tokenize(text)\n",
    "    total_len = len(tokens)\n",
    "    tokens, count_prod, count_invoice = tokenizer.recognize_my_items(tokens)\n",
    "    stemmed_tokens, tagged_tokens = tokenizer.stem_and_tag(tokens)\n",
    "\n",
    "    nouns, verbs, adjectives, conjunctions, numbers = tokenizer.count_types(tagged_tokens)\n",
    "    \n",
    "    features = {}\n",
    "    features[\"product_ids\"]=count_prod\n",
    "    features['numbers'] = numbers\n",
    "    features['invoice_ids']=count_invoice\n",
    "    features['nouns']=nouns\n",
    "    features['verbs']=verbs\n",
    "    features['adjectives']= adjectives\n",
    "    features['conjunctions']= conjunctions\n",
    "    features['small_blocks']=count_low\n",
    "    features['med_blocks']=count_med\n",
    "    features['large_blocks']=count_high\n",
    "    features['total_words']=total_len\n",
    "    return features"
   ]
  },
  {
   "cell_type": "code",
   "execution_count": 3,
   "metadata": {},
   "outputs": [
    {
     "data": {
      "text/plain": [
       "{'adjectives': 35,\n",
       " 'conjunctions': 0,\n",
       " 'invoice_ids': 0,\n",
       " 'large_blocks': 12,\n",
       " 'med_blocks': 4,\n",
       " 'nouns': 82,\n",
       " 'numbers': 2,\n",
       " 'product_ids': 0,\n",
       " 'small_blocks': 1,\n",
       " 'total_words': 142,\n",
       " 'verbs': 13}"
      ]
     },
     "execution_count": 3,
     "metadata": {},
     "output_type": "execute_result"
    }
   ],
   "source": [
    "#features = extract_features(\"../RPA/invoice.jpg\")\n",
    "features = extract_features(\"./emails/email01.png\")\n",
    "features"
   ]
  },
  {
   "cell_type": "code",
   "execution_count": 4,
   "metadata": {},
   "outputs": [
    {
     "data": {
      "text/plain": [
       "[[0, 2, 0, 82, 13, 35, 0, 1, 4, 12, 142]]"
      ]
     },
     "execution_count": 4,
     "metadata": {},
     "output_type": "execute_result"
    }
   ],
   "source": [
    "formatted_features = classifier.format_features(features)\n",
    "formatted_features"
   ]
  },
  {
   "cell_type": "code",
   "execution_count": 5,
   "metadata": {},
   "outputs": [],
   "source": [
    "labels = ['email','invoice']"
   ]
  },
  {
   "cell_type": "code",
   "execution_count": 6,
   "metadata": {},
   "outputs": [
    {
     "name": "stdout",
     "output_type": "stream",
     "text": [
      "INFO:tensorflow:Restoring parameters from ./models/classifier.ckpt\n"
     ]
    }
   ],
   "source": [
    "prediction, confidence = classifier.classify(features, labels)"
   ]
  },
  {
   "cell_type": "code",
   "execution_count": 7,
   "metadata": {},
   "outputs": [
    {
     "name": "stdout",
     "output_type": "stream",
     "text": [
      "Predicted class 'email' with 0.987806379795 confidence\n"
     ]
    }
   ],
   "source": [
    "print(\"Predicted class '{}' with {} confidence\".format(prediction, confidence))"
   ]
  },
  {
   "cell_type": "code",
   "execution_count": null,
   "metadata": {},
   "outputs": [],
   "source": []
  }
 ],
 "metadata": {
  "kernelspec": {
   "display_name": "Python 2",
   "language": "python",
   "name": "python2"
  },
  "language_info": {
   "codemirror_mode": {
    "name": "ipython",
    "version": 2
   },
   "file_extension": ".py",
   "mimetype": "text/x-python",
   "name": "python",
   "nbconvert_exporter": "python",
   "pygments_lexer": "ipython2",
   "version": "2.7.12"
  }
 },
 "nbformat": 4,
 "nbformat_minor": 2
}
