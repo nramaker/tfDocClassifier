{
 "cells": [
  {
   "cell_type": "code",
   "execution_count": null,
   "metadata": {},
   "outputs": [],
   "source": [
    "# Imports\n",
    "import HSToken as tokenizer\n",
    "import HSGoogleHelper as googleAPI\n",
    "import HSUtilCSV as csvHelper\n",
    "\n",
    "import unicodedata     \n",
    "import nltk\n",
    "\n",
    "import pandas as pd"
   ]
  },
  {
   "cell_type": "code",
   "execution_count": null,
   "metadata": {},
   "outputs": [],
   "source": [
    "def extract_features(image):\n",
    "    \n",
    "    #Call Google API\n",
    "    google_detection= googleAPI.get_text_from_google(image)\n",
    "    text_areas = googleAPI.collect_text_areas(google_detection)\n",
    "    count_low, count_med, count_high = googleAPI.count_text_areas_by_size(text_areas)\n",
    "    \n",
    "    #Tokenize and turn into Features\n",
    "    text = google_detection.text\n",
    "    text = unicodedata.normalize('NFKD', text).encode('ascii', 'ignore')\n",
    "    \n",
    "    tokens, numbers = tokenizer.tokenize(text)\n",
    "    total_len = len(tokens)\n",
    "    tokens, count_prod, count_invoice = tokenizer.recognize_my_items(tokens)\n",
    "    stemmed_tokens, tagged_tokens = tokenizer.stem_and_tag(tokens)\n",
    "\n",
    "    nouns, verbs, adjectives, conjunctions, numbers = tokenizer.count_types(tagged_tokens)\n",
    "    \n",
    "    features = {}\n",
    "    features[\"product_ids\"]=count_prod\n",
    "    features['numbers'] = numbers\n",
    "    features['invoice_ids']=count_invoice\n",
    "    features['nouns']=nouns\n",
    "    features['verbs']=verbs\n",
    "    features['adjectives']= adjectives\n",
    "    features['conjunctions']= conjunctions\n",
    "    features['small_blocks']=count_low\n",
    "    features['med_blocks']=count_med\n",
    "    features['large_blocks']=count_high\n",
    "    features['total_words']=total_len\n",
    "    return features"
   ]
  },
  {
   "cell_type": "code",
   "execution_count": null,
   "metadata": {},
   "outputs": [],
   "source": [
    "#features = extract_features(\"../RPA/invoice.jpg\")\n",
    "features = extract_features(\"./emails/email02.png\")\n",
    "features"
   ]
  },
  {
   "cell_type": "code",
   "execution_count": null,
   "metadata": {},
   "outputs": [],
   "source": [
    "dataframe = csvHelper.create_feature_df()\n",
    "dataframe = csvHelper.append_to_dataframe(dataframe, features, \"invoice\")\n",
    "dataframe"
   ]
  },
  {
   "cell_type": "code",
   "execution_count": null,
   "metadata": {},
   "outputs": [],
   "source": [
    "csvHelper.save_to_file(dataframe, 'out.csv')"
   ]
  },
  {
   "cell_type": "code",
   "execution_count": null,
   "metadata": {},
   "outputs": [],
   "source": [
    "dataframe = csvHelper.create_feature_df()\n",
    "\n",
    "#score all the invoices\n",
    "features = extract_features(\"./invoices/inv01.png\")\n",
    "dataframe = csvHelper.append_to_dataframe(dataframe, features, \"invoice\")\n",
    "features = extract_features(\"./invoices/inv02.png\")\n",
    "dataframe = csvHelper.append_to_dataframe(dataframe, features, \"invoice\")\n",
    "features = extract_features(\"./invoices/inv03.png\")\n",
    "dataframe = csvHelper.append_to_dataframe(dataframe, features, \"invoice\")\n",
    "features = extract_features(\"./invoices/inv04.png\")\n",
    "dataframe = csvHelper.append_to_dataframe(dataframe, features, \"invoice\")\n",
    "features = extract_features(\"./invoices/inv05.png\")\n",
    "dataframe = csvHelper.append_to_dataframe(dataframe, features, \"invoice\")\n",
    "features = extract_features(\"./invoices/inv06.png\")\n",
    "dataframe = csvHelper.append_to_dataframe(dataframe, features, \"invoice\")\n",
    "\n",
    "#score all of the emails\n",
    "features = extract_features(\"./emails/email01.png\")\n",
    "dataframe = csvHelper.append_to_dataframe(dataframe, features, \"email\")\n",
    "features = extract_features(\"./emails/email02.png\")\n",
    "dataframe = csvHelper.append_to_dataframe(dataframe, features, \"email\")\n",
    "features = extract_features(\"./emails/email03.png\")\n",
    "dataframe = csvHelper.append_to_dataframe(dataframe, features, \"email\")\n",
    "features = extract_features(\"./emails/email04.png\")\n",
    "dataframe = csvHelper.append_to_dataframe(dataframe, features, \"email\")\n",
    "features = extract_features(\"./emails/email05.png\")\n",
    "dataframe = csvHelper.append_to_dataframe(dataframe, features, \"email\")\n",
    "\n",
    "#save \n",
    "csvHelper.save_to_file(dataframe, 'out.csv')"
   ]
  },
  {
   "cell_type": "code",
   "execution_count": null,
   "metadata": {},
   "outputs": [],
   "source": [
    "chosen = dataframe.iloc[:1]\n",
    "chosen\n",
    "\n",
    "random = csvHelper.generate_random(chosen, 0.3, 0)\n",
    "random\n"
   ]
  },
  {
   "cell_type": "code",
   "execution_count": null,
   "metadata": {},
   "outputs": [],
   "source": [
    "dataframe = csvHelper.fill_random(dataframe, 1000, 0.3)\n",
    "dataframe"
   ]
  },
  {
   "cell_type": "code",
   "execution_count": null,
   "metadata": {},
   "outputs": [],
   "source": [
    "#shuffle\n",
    "dataframe = dataframe.sample(frac=1).reset_index(drop=True)\n",
    "#save \n",
    "csvHelper.save_to_file(dataframe, 'out.csv')"
   ]
  },
  {
   "cell_type": "code",
   "execution_count": null,
   "metadata": {},
   "outputs": [],
   "source": []
  }
 ],
 "metadata": {
  "kernelspec": {
   "display_name": "Python 2",
   "language": "python",
   "name": "python2"
  },
  "language_info": {
   "codemirror_mode": {
    "name": "ipython",
    "version": 2
   },
   "file_extension": ".py",
   "mimetype": "text/x-python",
   "name": "python",
   "nbconvert_exporter": "python",
   "pygments_lexer": "ipython2",
   "version": "2.7.12"
  }
 },
 "nbformat": 4,
 "nbformat_minor": 2
}
