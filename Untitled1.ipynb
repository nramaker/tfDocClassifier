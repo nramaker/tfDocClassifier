{
 "cells": [
  {
   "cell_type": "code",
   "execution_count": 1,
   "metadata": {},
   "outputs": [],
   "source": [
    "# Imports\n",
    "import HSToken as tokenizer\n",
    "import HSGoogleHelper as googleAPI\n",
    "import HSUtilCSV as csvHelper\n",
    "\n",
    "import unicodedata     \n",
    "import nltk\n",
    "\n",
    "import pandas as pd\n",
    "#import numpy as np\n",
    "#import matplotlib.pyplot as plt\n",
    "#import tensorflow as tf"
   ]
  },
  {
   "cell_type": "code",
   "execution_count": 2,
   "metadata": {},
   "outputs": [],
   "source": [
    "#nltk.help.upenn_tagset()"
   ]
  },
  {
   "cell_type": "code",
   "execution_count": 3,
   "metadata": {},
   "outputs": [],
   "source": [
    "def extract_features(image):\n",
    "    \n",
    "    #Call Google API\n",
    "    google_detection= googleAPI.get_text_from_google(image)\n",
    "    text_areas = googleAPI.collect_text_areas(google_detection)\n",
    "    count_low, count_med, count_high = googleAPI.count_text_areas_by_size(text_areas)\n",
    "    \n",
    "    #Tokenize and turn into Features\n",
    "    text = google_detection.text\n",
    "    text = unicodedata.normalize('NFKD', text).encode('ascii', 'ignore')\n",
    "    \n",
    "    tokens, numbers = tokenizer.tokenize(text)\n",
    "    total_len = len(tokens)\n",
    "    tokens, count_prod, count_invoice = tokenizer.recognize_my_items(tokens)\n",
    "    stemmed_tokens, tagged_tokens = tokenizer.stem_and_tag(tokens)\n",
    "\n",
    "    nouns, verbs, adjectives, conjunctions, numbers = tokenizer.count_types(tagged_tokens)\n",
    "    \n",
    "    features = {}\n",
    "    features[\"product_ids\"]=count_prod\n",
    "    features['numbers'] = numbers\n",
    "    features['invoice_ids']=count_invoice\n",
    "    features['nouns']=nouns\n",
    "    features['verbs']=verbs\n",
    "    features['adjectives']= adjectives\n",
    "    features['conjunctions']= conjunctions\n",
    "    features['small_blocks']=count_low\n",
    "    features['med_blocks']=count_med\n",
    "    features['large_blocks']=count_high\n",
    "    features['total_words']=total_len\n",
    "    return features"
   ]
  },
  {
   "cell_type": "code",
   "execution_count": 4,
   "metadata": {},
   "outputs": [],
   "source": [
    "def score_file(file):\n",
    "    features = extract_features(file)\n",
    "    return features\n",
    "    "
   ]
  },
  {
   "cell_type": "code",
   "execution_count": 5,
   "metadata": {},
   "outputs": [],
   "source": [
    "features = extract_features(\"../RPA/invoice.jpg\")\n",
    "#features"
   ]
  },
  {
   "cell_type": "code",
   "execution_count": 6,
   "metadata": {},
   "outputs": [
    {
     "data": {
      "text/html": [
       "<div>\n",
       "<table border=\"1\" class=\"dataframe\">\n",
       "  <thead>\n",
       "    <tr style=\"text-align: right;\">\n",
       "      <th></th>\n",
       "      <th>label</th>\n",
       "      <th>product_ids</th>\n",
       "      <th>numbers</th>\n",
       "      <th>invoice_ids</th>\n",
       "      <th>nouns</th>\n",
       "      <th>verbs</th>\n",
       "      <th>adjectives</th>\n",
       "      <th>conjunctions</th>\n",
       "      <th>small_blocks</th>\n",
       "      <th>med_blocks</th>\n",
       "      <th>large_blocks</th>\n",
       "      <th>total_words</th>\n",
       "    </tr>\n",
       "  </thead>\n",
       "  <tbody>\n",
       "    <tr>\n",
       "      <th>0</th>\n",
       "      <td>invoice</td>\n",
       "      <td>5</td>\n",
       "      <td>19</td>\n",
       "      <td>1</td>\n",
       "      <td>59</td>\n",
       "      <td>6</td>\n",
       "      <td>14</td>\n",
       "      <td>1</td>\n",
       "      <td>28</td>\n",
       "      <td>11</td>\n",
       "      <td>6</td>\n",
       "      <td>105</td>\n",
       "    </tr>\n",
       "  </tbody>\n",
       "</table>\n",
       "</div>"
      ],
      "text/plain": [
       "     label product_ids numbers invoice_ids nouns verbs adjectives  \\\n",
       "0  invoice           5      19           1    59     6         14   \n",
       "\n",
       "  conjunctions small_blocks med_blocks large_blocks total_words  \n",
       "0            1           28         11            6         105  "
      ]
     },
     "execution_count": 6,
     "metadata": {},
     "output_type": "execute_result"
    }
   ],
   "source": [
    "dataframe = csvHelper.create_feature_df()\n",
    "dataframe = csvHelper.append_to_dataframe(dataframe, features, \"invoice\")\n",
    "dataframe"
   ]
  },
  {
   "cell_type": "code",
   "execution_count": 7,
   "metadata": {},
   "outputs": [],
   "source": [
    "csvHelper.save_to_file(dataframe, 'out.csv')"
   ]
  },
  {
   "cell_type": "code",
   "execution_count": 8,
   "metadata": {},
   "outputs": [],
   "source": [
    "dataframe = csvHelper.create_feature_df()\n",
    "\n",
    "#score all the invoices\n",
    "features = extract_features(\"./invoices/inv01.png\")\n",
    "dataframe = csvHelper.append_to_dataframe(dataframe, features, \"invoice\")\n",
    "features = extract_features(\"./invoices/inv02.png\")\n",
    "dataframe = csvHelper.append_to_dataframe(dataframe, features, \"invoice\")\n",
    "features = extract_features(\"./invoices/inv03.png\")\n",
    "dataframe = csvHelper.append_to_dataframe(dataframe, features, \"invoice\")\n",
    "features = extract_features(\"./invoices/inv04.png\")\n",
    "dataframe = csvHelper.append_to_dataframe(dataframe, features, \"invoice\")\n",
    "features = extract_features(\"./invoices/inv05.png\")\n",
    "dataframe = csvHelper.append_to_dataframe(dataframe, features, \"invoice\")\n",
    "features = extract_features(\"./invoices/inv06.png\")\n",
    "dataframe = csvHelper.append_to_dataframe(dataframe, features, \"invoice\")\n",
    "\n",
    "#score all of the emails\n",
    "features = extract_features(\"./emails/email01.png\")\n",
    "dataframe = csvHelper.append_to_dataframe(dataframe, features, \"email\")\n",
    "features = extract_features(\"./emails/email02.png\")\n",
    "dataframe = csvHelper.append_to_dataframe(dataframe, features, \"email\")\n",
    "features = extract_features(\"./emails/email03.png\")\n",
    "dataframe = csvHelper.append_to_dataframe(dataframe, features, \"email\")\n",
    "features = extract_features(\"./emails/email04.png\")\n",
    "dataframe = csvHelper.append_to_dataframe(dataframe, features, \"email\")\n",
    "features = extract_features(\"./emails/email05.png\")\n",
    "dataframe = csvHelper.append_to_dataframe(dataframe, features, \"email\")\n",
    "\n",
    "#save \n",
    "csvHelper.save_to_file(dataframe, 'out.csv')"
   ]
  },
  {
   "cell_type": "code",
   "execution_count": null,
   "metadata": {},
   "outputs": [],
   "source": []
  },
  {
   "cell_type": "code",
   "execution_count": null,
   "metadata": {},
   "outputs": [],
   "source": []
  }
 ],
 "metadata": {
  "kernelspec": {
   "display_name": "Python 2",
   "language": "python",
   "name": "python2"
  },
  "language_info": {
   "codemirror_mode": {
    "name": "ipython",
    "version": 2
   },
   "file_extension": ".py",
   "mimetype": "text/x-python",
   "name": "python",
   "nbconvert_exporter": "python",
   "pygments_lexer": "ipython2",
   "version": "2.7.12"
  }
 },
 "nbformat": 4,
 "nbformat_minor": 2
}
