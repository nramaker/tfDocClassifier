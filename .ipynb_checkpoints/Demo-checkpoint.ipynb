{
 "cells": [
  {
   "cell_type": "code",
   "execution_count": 1,
   "metadata": {},
   "outputs": [],
   "source": [
    "# Imports\n",
    "import HSToken\n",
    "import HSDocClassifier"
   ]
  },
  {
   "cell_type": "code",
   "execution_count": 12,
   "metadata": {},
   "outputs": [
    {
     "name": "stdout",
     "output_type": "stream",
     "text": [
      "('features', {'small_blocks': 12, 'total_words': 50, 'med_blocks': 13, 'large_blocks': 2, 'conjunctions': 0, 'invoice_ids': 0, 'adjectives': 7, 'verbs': 6, 'product_ids': 0, 'nouns': 21, 'numbers': 15})\n",
      "\n",
      "\n",
      "('text', 'Purchase Order\\nABC Software\\nFor: NLTK Nathan Enterprise\\nnathan.ramaker @helpsystems.com\\nPO No.\\nDate:\\n10/04/2017\\n1600 Washington Ave, D, c.12345\\nDescription\\nQuantity\\nRate\\nAmount\\nProduct ID: 20000\\n10\\n$32.00\\n$320.00\\nProduct ID: 5000\\n$1,000.00\\n$3,000.00\\nDinner with Senators, $10000\\n$10,000.00\\n$10,000.00\\nSubtotal\\nTAX 8%\\nTotal\\n$13320.00\\n$1065.60\\n$14385.60\\nTotal\\n$14385.60\\nComments\\nSpent time and time with politicians in DC. Get things done!\\n')\n"
     ]
    }
   ],
   "source": [
    "#features, text = extract_features(\"../RPA/invoice.jpg\")\n",
    "features, text = HSToken.extract_features(\"./invoices/inv01.png\")\n",
    "#features, text = extract_features(\"./emails/email01.png\")\n",
    "\n",
    "print(\"features\",features)\n",
    "print(\"\\n\")\n",
    "print(\"text\",text)"
   ]
  },
  {
   "cell_type": "code",
   "execution_count": 4,
   "metadata": {},
   "outputs": [],
   "source": [
    "labels = ['email','invoice']"
   ]
  },
  {
   "cell_type": "code",
   "execution_count": 7,
   "metadata": {},
   "outputs": [
    {
     "name": "stdout",
     "output_type": "stream",
     "text": [
      "Predicted class 'invoice' with 0.969143569469 confidence\n"
     ]
    }
   ],
   "source": [
    "prediction, confidence = HSDocClassifier.classify(features, labels)\n",
    "print(\"Predicted class '{}' with {} confidence\".format(prediction, confidence))"
   ]
  }
 ],
 "metadata": {
  "kernelspec": {
   "display_name": "Python 2",
   "language": "python",
   "name": "python2"
  },
  "language_info": {
   "codemirror_mode": {
    "name": "ipython",
    "version": 2
   },
   "file_extension": ".py",
   "mimetype": "text/x-python",
   "name": "python",
   "nbconvert_exporter": "python",
   "pygments_lexer": "ipython2",
   "version": "2.7.12"
  }
 },
 "nbformat": 4,
 "nbformat_minor": 2
}
