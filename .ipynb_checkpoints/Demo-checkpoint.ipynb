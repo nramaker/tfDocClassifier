{
 "cells": [
  {
   "cell_type": "code",
   "execution_count": null,
   "metadata": {},
   "outputs": [],
   "source": [
    "# Imports\n",
    "import HSToken\n",
    "import HSDocClassifier"
   ]
  },
  {
   "cell_type": "code",
   "execution_count": null,
   "metadata": {},
   "outputs": [],
   "source": [
    "features, text = HSToken.extract_features(\"../RPA/invoice.jpg\")\n",
    "#features, text = HSToken.extract_features(\"./invoices/inv01.png\")\n",
    "#features, text = HSToken.extract_features(\"./emails/email05.png\")\n",
    "\n",
    "print(\"features\",features)\n",
    "print(\"\\n\")\n",
    "print(\"text\",text)"
   ]
  },
  {
   "cell_type": "code",
   "execution_count": null,
   "metadata": {},
   "outputs": [],
   "source": [
    "labels = ['email','invoice']"
   ]
  },
  {
   "cell_type": "code",
   "execution_count": null,
   "metadata": {},
   "outputs": [],
   "source": [
    "prediction, confidence = HSDocClassifier.classify(features, labels)\n",
    "print(\"Predicted class '{}' with {} confidence\".format(prediction, confidence))"
   ]
  }
 ],
 "metadata": {
  "kernelspec": {
   "display_name": "Python 2",
   "language": "python",
   "name": "python2"
  },
  "language_info": {
   "codemirror_mode": {
    "name": "ipython",
    "version": 2
   },
   "file_extension": ".py",
   "mimetype": "text/x-python",
   "name": "python",
   "nbconvert_exporter": "python",
   "pygments_lexer": "ipython2",
   "version": "2.7.12"
  }
 },
 "nbformat": 4,
 "nbformat_minor": 2
}
