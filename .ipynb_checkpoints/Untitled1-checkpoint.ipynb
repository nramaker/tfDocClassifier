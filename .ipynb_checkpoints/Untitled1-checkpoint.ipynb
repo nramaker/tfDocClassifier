{
 "cells": [
  {
   "cell_type": "code",
   "execution_count": 1,
   "metadata": {},
   "outputs": [],
   "source": [
    "# Imports\n",
    "import HSToken as tokenizer\n",
    "import HSGoogleHelper as googleAPI\n",
    "\n",
    "import unicodedata                        \n",
    "\n",
    "#%matplotlib inline\n",
    "#import pandas as pd\n",
    "#import numpy as np\n",
    "#import matplotlib.pyplot as plt\n",
    "#import tensorflow as tf"
   ]
  },
  {
   "cell_type": "code",
   "execution_count": 2,
   "metadata": {},
   "outputs": [
    {
     "name": "stdout",
     "output_type": "stream",
     "text": [
      "### TEST TEST TEST\n"
     ]
    }
   ],
   "source": []
  },
  {
   "cell_type": "code",
   "execution_count": null,
   "metadata": {},
   "outputs": [],
   "source": []
  },
  {
   "cell_type": "code",
   "execution_count": null,
   "metadata": {},
   "outputs": [],
   "source": []
  },
  {
   "cell_type": "code",
   "execution_count": 3,
   "metadata": {},
   "outputs": [],
   "source": [
    "def extract_features(image):\n",
    "    print(\"### extract features\")\n",
    "    \n",
    "    #Call Google API\n",
    "    google_detection= googleAPI.get_text_from_google(image)\n",
    "    text_areas = googleAPI.collect_text_areas(google_detection)\n",
    "    count_low, count_med, count_high = googleAPI.count_text_areas_by_size(text_areas)\n",
    "    \n",
    "    #Tokenize and turn into Features\n",
    "    text = google_detection.text\n",
    "    text = unicodedata.normalize('NFKD', text).encode('ascii', 'ignore')\n",
    "    \n",
    "    tokens, numbers = tokenizer.tokenize(text)\n",
    "    total_len = len(tokens)\n",
    "    tokens, count_prod, count_invoice = tokenizer.recognize_my_items(tokens)\n",
    "    tokens = tokenizer.stem_and_tag(tokens)\n",
    "    \n",
    "    features = {}\n",
    "    features[\"product_ids\"]=count_prod\n",
    "    features['numbers'] = numbers\n",
    "    features['invoice_ids']=count_invoice\n",
    "    features['dates']=0\n",
    "    features['addresses']=0\n",
    "    features['nouns']=0\n",
    "    features['verbs']=0\n",
    "    features['small_blocks']=count_low\n",
    "    features['med_blocks']=count_med\n",
    "    features['large_blocks']=count_high\n",
    "    features['total_words']=total_len\n",
    "    return features"
   ]
  },
  {
   "cell_type": "code",
   "execution_count": 4,
   "metadata": {},
   "outputs": [],
   "source": [
    "def score_file(file):\n",
    "    print(\"### score file\")\n",
    "    features = extract_features(file)\n",
    "    print(features)\n",
    "    "
   ]
  },
  {
   "cell_type": "code",
   "execution_count": 5,
   "metadata": {},
   "outputs": [
    {
     "name": "stdout",
     "output_type": "stream",
     "text": [
      "### score file\n",
      "### extract features\n",
      "### get_text_from_google\n",
      "### collect_text_areas\n",
      "### tokenize\n",
      "### recognize_my_items\n",
      "('INVOICE!', 'INV1000')\n",
      "RECOGNIZED INVOICE!\n",
      "### stem_and_tag\n",
      "{'dates': 0, 'addresses': 0, 'total_words': 105, 'med_blocks': 11, 'large_blocks': 6, 'invoice_ids': 1, 'verbs': 0, 'product_ids': 5, 'nouns': 0, 'small_blocks': 28, 'numbers': 99}\n"
     ]
    }
   ],
   "source": [
    "score_file(\"../RPA/invoice.jpg\")"
   ]
  },
  {
   "cell_type": "code",
   "execution_count": null,
   "metadata": {},
   "outputs": [],
   "source": []
  }
 ],
 "metadata": {
  "kernelspec": {
   "display_name": "Python 2",
   "language": "python",
   "name": "python2"
  },
  "language_info": {
   "codemirror_mode": {
    "name": "ipython",
    "version": 2
   },
   "file_extension": ".py",
   "mimetype": "text/x-python",
   "name": "python",
   "nbconvert_exporter": "python",
   "pygments_lexer": "ipython2",
   "version": "2.7.12"
  }
 },
 "nbformat": 4,
 "nbformat_minor": 2
}
