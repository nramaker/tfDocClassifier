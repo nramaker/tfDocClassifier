{
 "cells": [
  {
   "cell_type": "code",
   "execution_count": null,
   "metadata": {},
   "outputs": [],
   "source": [
    "import HSUtilCSV as csvHelper\n",
    "\n",
    "import pandas as pd\n",
    "import tensorflow as tf"
   ]
  },
  {
   "cell_type": "code",
   "execution_count": null,
   "metadata": {},
   "outputs": [],
   "source": [
    "dataframe = csvHelper.load_file(\"out.csv\")\n",
    "dataframe"
   ]
  },
  {
   "cell_type": "code",
   "execution_count": null,
   "metadata": {},
   "outputs": [],
   "source": [
    "#splict the labels into booleans\n",
    "dataframe['email']= (dataframe['label']=='email').astype(int)\n",
    "dataframe['invoice']= (dataframe['label']=='invoice').astype(int)\n",
    "\n",
    "#grab the label categories\n",
    "labels = dataframe.ix[:,['email', 'invoice']]\n",
    "labels[:10]\n"
   ]
  },
  {
   "cell_type": "code",
   "execution_count": null,
   "metadata": {},
   "outputs": [],
   "source": [
    "#remove the labels from the data\n",
    "dataframe = dataframe.drop(['label','email','invoice','Unnamed: 0'], axis=1)\n",
    "dataframe[0:10]"
   ]
  },
  {
   "cell_type": "code",
   "execution_count": null,
   "metadata": {},
   "outputs": [],
   "source": [
    "#convert the dataframs to matrixes\n",
    "input_data = dataframe.as_matrix()\n",
    "input_labels = labels.as_matrix()"
   ]
  },
  {
   "cell_type": "code",
   "execution_count": null,
   "metadata": {},
   "outputs": [],
   "source": [
    "input_data[0]"
   ]
  },
  {
   "cell_type": "code",
   "execution_count": null,
   "metadata": {},
   "outputs": [],
   "source": [
    "input_labels"
   ]
  },
  {
   "cell_type": "code",
   "execution_count": null,
   "metadata": {},
   "outputs": [],
   "source": [
    "#Tensorflow hyper parameters\n",
    "learning_rate = 0.00001\n",
    "training_epochs= 100000\n",
    "display_step = 100\n",
    "n_samples = input_labels.size"
   ]
  },
  {
   "cell_type": "code",
   "execution_count": null,
   "metadata": {},
   "outputs": [],
   "source": [
    "#Tensorflow placeholder (the tensors to hold our data)\n",
    "x = tf.placeholder(tf.float32, [None, 11])\n",
    "\n",
    "#Weights\n",
    "W = tf.Variable(tf.zeros([11,2]))\n",
    "\n",
    "#biases\n",
    "b = tf.Variable(tf.zeros([2]))\n",
    "\n",
    "#activation function\n",
    "y_values = tf.add(tf.matmul(x, W), b)\n",
    "y= tf.nn.softmax(y_values)\n",
    "\n",
    "#Tensorflow placeholder (the tensor to hold our labels)\n",
    "y_ = tf.placeholder(tf.float32, [None,2])"
   ]
  },
  {
   "cell_type": "code",
   "execution_count": null,
   "metadata": {},
   "outputs": [],
   "source": [
    "#cost function is means squared error\n",
    "cost = tf.reduce_sum(tf.pow(y_ - y, 2))/(2*n_samples)\n",
    "#Gradient decent optimizer\n",
    "optimizer = tf.train.GradientDescentOptimizer(learning_rate).minimize(cost)"
   ]
  },
  {
   "cell_type": "code",
   "execution_count": null,
   "metadata": {},
   "outputs": [],
   "source": [
    "#Initialization!\n",
    "#init = tf.initialize_all_variables()\n",
    "init = tf.global_variables_initializer()\n",
    "sess = tf.Session()\n",
    "sess.run(init)"
   ]
  },
  {
   "cell_type": "code",
   "execution_count": null,
   "metadata": {},
   "outputs": [],
   "source": [
    "#Lets train\n",
    "for i in range(training_epochs):\n",
    "    sess.run(optimizer, feed_dict={x: input_data, y_: input_labels})\n",
    "    \n",
    "    if(i) % display_step == 0:\n",
    "        cc = sess.run(cost, feed_dict={x: input_data, y_:input_labels})\n",
    "        print \"Training step:\", '%04d' % i , \"cost=\", \"{:.9f}\".format(cc)\n",
    "        \n",
    "print \"Optimization done...\"\n",
    "training_cost = sess.run(cost, feed_dict={x: input_data, y_:input_labels})\n",
    "print \"Final cost = \", training_cost, \"W=\", sess.run(W), \"b=\", sess.run(b), '\\n'"
   ]
  },
  {
   "cell_type": "code",
   "execution_count": null,
   "metadata": {},
   "outputs": [],
   "source": [
    "predictions = sess.run(y, feed_dict={x: input_data})\n"
   ]
  },
  {
   "cell_type": "code",
   "execution_count": null,
   "metadata": {},
   "outputs": [],
   "source": [
    "predictions[18]"
   ]
  },
  {
   "cell_type": "code",
   "execution_count": null,
   "metadata": {},
   "outputs": [],
   "source": [
    "labels[-10:]\n"
   ]
  },
  {
   "cell_type": "code",
   "execution_count": null,
   "metadata": {},
   "outputs": [],
   "source": [
    "single_predict = sess.run(y, feed_dict={x: input_data[999:1000]})\n",
    "single_predict"
   ]
  },
  {
   "cell_type": "code",
   "execution_count": null,
   "metadata": {},
   "outputs": [],
   "source": [
    "saver = tf.train.Saver()\n",
    "save_path = saver.save(sess, './models/classifier.ckpt')"
   ]
  },
  {
   "cell_type": "code",
   "execution_count": null,
   "metadata": {},
   "outputs": [],
   "source": [
    "save_path"
   ]
  }
 ],
 "metadata": {
  "kernelspec": {
   "display_name": "Python 2",
   "language": "python",
   "name": "python2"
  },
  "language_info": {
   "codemirror_mode": {
    "name": "ipython",
    "version": 2
   },
   "file_extension": ".py",
   "mimetype": "text/x-python",
   "name": "python",
   "nbconvert_exporter": "python",
   "pygments_lexer": "ipython2",
   "version": "2.7.12"
  }
 },
 "nbformat": 4,
 "nbformat_minor": 2
}
